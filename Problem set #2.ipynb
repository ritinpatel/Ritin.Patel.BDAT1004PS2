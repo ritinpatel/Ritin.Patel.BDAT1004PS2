{
 "cells": [
  {
   "cell_type": "markdown",
   "id": "9fab83de",
   "metadata": {},
   "source": [
    "# Question 1"
   ]
  },
  {
   "cell_type": "markdown",
   "id": "94a4b31a",
   "metadata": {},
   "source": [
    "Consider the following Python module: \n",
    "\n",
    "a = 0 \n",
    " \n",
    "def b(): \n",
    "    global a \n",
    "    a = c(a) \n",
    " \n",
    "def c(a): \n",
    "    return a + 2 \n",
    "\n",
    "After importing the module into the interpreter, you execute: \n",
    "\n",
    "b()\n",
    "\n",
    "b()\n",
    "\n",
    "b()\n",
    "\n",
    "a\n",
    "\n",
    "?"
   ]
  },
  {
   "cell_type": "code",
   "execution_count": 6,
   "id": "0bc0fe7b",
   "metadata": {},
   "outputs": [
    {
     "name": "stdout",
     "output_type": "stream",
     "text": [
      "2\n",
      "4\n",
      "6\n",
      "6\n"
     ]
    }
   ],
   "source": [
    "a = 0 \n",
    " \n",
    "def b(): \n",
    "    global a \n",
    "    a = c(a)\n",
    "    return a\n",
    "\n",
    "def c(a):\n",
    "    return a + 2\n",
    "\n",
    "print(b())\n",
    "print(b())\n",
    "print(b())\n",
    "print(a)"
   ]
  },
  {
   "cell_type": "markdown",
   "id": "ce48a650",
   "metadata": {},
   "source": [
    "# Explaination for Que 1"
   ]
  },
  {
   "cell_type": "markdown",
   "id": "4d51fb8a",
   "metadata": {},
   "source": [
    "In the first call to b(), the global a is used i.e. 0. which is passed to function c() and a value becomes c(0) which is 2. Hence, b() returns 2.\n",
    "In the second call to b() updates the variable a to c(2) in similar way. a value becomes 4 Hence, b() returns 4.\n",
    "In the third call to b() updates the variable a to c(4) in similar way. a value becomes 6 Hence, b() returns 6.\n",
    "As the a was declared global in the fucntion b(). so the value change of a is made to the global a. Hence, the final value of a becomes 6."
   ]
  },
  {
   "cell_type": "markdown",
   "id": "25dcb179",
   "metadata": {},
   "source": [
    "# Question 2"
   ]
  },
  {
   "cell_type": "markdown",
   "id": "46f00319",
   "metadata": {},
   "source": [
    "Function fileLength(), given to you, takes the name of a file as input and returns \n",
    "the length of the file: \n",
    "\n",
    "fileLength('midterm.py') \n",
    "\n",
    "284 \n",
    "\n",
    "fileLength('idterm.py') \n",
    "\n",
    "Traceback (most recent call last): \n",
    "  \n",
    "  File \"<pyshell#34>\", line 1, in <module> \n",
    "    \n",
    "    fileLength('idterm.py') \n",
    "  \n",
    "    File \"/Users/me/midterm.py\", line 3, in fileLength \n",
    "    \n",
    "    infile = open(filename) \n",
    "FileNotFoundError: [Errno 2] No such file or directory: \n",
    "\n",
    "    'idterm.py' \n",
    "\n",
    "As shown above, if the file cannot be found by the interpreter or if it cannot be read \n",
    "as a text file, an exception will be raised. Modify function fileLength() so that a \n",
    "friendly message is printed instead: \n",
    "\n",
    "fileLength('midterm.py')\n",
    "    \n",
    "358\n",
    "    \n",
    "fileLength('idterm.py') \n",
    "    \n",
    "File idterm.py not found. "
   ]
  },
  {
   "cell_type": "code",
   "execution_count": 33,
   "id": "91e4b5c7",
   "metadata": {},
   "outputs": [],
   "source": [
    "def file_length(file_name):\n",
    "    try:\n",
    "        file = open(file_name,'r')\n",
    "        contents = file.read()\n",
    "        Length_of_file = len(contents)\n",
    "        file.close()\n",
    "        return Length_of_file\n",
    "    except:\n",
    "        return \"File \" + file_name + \" not found. \""
   ]
  },
  {
   "cell_type": "code",
   "execution_count": 34,
   "id": "eae041f6",
   "metadata": {},
   "outputs": [
    {
     "data": {
      "text/plain": [
       "396"
      ]
     },
     "execution_count": 34,
     "metadata": {},
     "output_type": "execute_result"
    }
   ],
   "source": [
    "file_length('w3c.txt')"
   ]
  },
  {
   "cell_type": "code",
   "execution_count": 35,
   "id": "95ea852c",
   "metadata": {},
   "outputs": [
    {
     "data": {
      "text/plain": [
       "'File idterm.py not found. '"
      ]
     },
     "execution_count": 35,
     "metadata": {},
     "output_type": "execute_result"
    }
   ],
   "source": [
    "file_length('idterm.py')"
   ]
  },
  {
   "cell_type": "markdown",
   "id": "41abd4f7",
   "metadata": {},
   "source": [
    "# Question 3"
   ]
  },
  {
   "cell_type": "markdown",
   "id": "f0879a9e",
   "metadata": {},
   "source": [
    "Write a class named Marsupial that can be used as shown below: \n",
    "\n",
    "m = Marsupial()\n",
    "\n",
    "m.put_in_pouch('doll') \n",
    "\n",
    "m.put_in_pouch('firetruck') \n",
    "\n",
    "m.put_in_pouch('kitten')\n",
    "\n",
    "m.pouch_contents() \n",
    "\n",
    "['doll', 'firetruck', 'kitten'] \n",
    "\n",
    "Now write a class named Kangaroo as a subclass of Marsupial that inherits all the \n",
    "attributes of Marsupial and also:\n",
    "\n",
    "a. extends the Marsupial __init__ constructor to take, as input, the \n",
    "coordinates x and y of the Kangaroo object, \n",
    "\n",
    "b. supports method jump that takes number values dx and dy as input and \n",
    "moves the kangaroo by dx units along the x-axis and by dy units along the y-\n",
    "axis, and \n",
    "\n",
    "c. overloads the __str__ operator so it behaves as shown below. \n",
    " \n",
    "k = Kangaroo(0,0)\n",
    "\n",
    "print(k) \n",
    "I am a Kangaroo located at coordinates (0,0) \n",
    "\n",
    "k.put_in_pouch('doll') \n",
    "\n",
    "k.put_in_pouch('firetruck') \n",
    "\n",
    "k.put_in_pouch('kitten') \n",
    "\n",
    "k.pouch_contents() \n",
    "\n",
    "['doll', 'firetruck', 'kitten'] \n",
    "\n",
    "k.jump(1,0) \n",
    "\n",
    "k.jump(1,0) \n",
    "\n",
    "k.jump(1,0) \n",
    "\n",
    "print(k) \n",
    "\n",
    "I am a Kangaroo located at coordinates (3,0) "
   ]
  },
  {
   "cell_type": "code",
   "execution_count": 36,
   "id": "0bd7c6ce",
   "metadata": {},
   "outputs": [
    {
     "name": "stdout",
     "output_type": "stream",
     "text": [
      "['doll', 'firetruck', 'kitten']\n"
     ]
    }
   ],
   "source": [
    "#creating Marsupial class\n",
    "class Marsupial:\n",
    "\n",
    "    def __init__(self):\n",
    "        self.new_list = []\n",
    "        self.new_list.clear()\n",
    "\n",
    "    def put_in_pouch(self, value):\n",
    "        self.new_list.append(value)\n",
    "\n",
    "    def pouch_contents(self):\n",
    "        return self.new_list\n",
    "    \n",
    "m = Marsupial()\n",
    "m.put_in_pouch('doll')\n",
    "m.put_in_pouch('firetruck')\n",
    "m.put_in_pouch('kitten')\n",
    "print(m.pouch_contents())"
   ]
  },
  {
   "cell_type": "code",
   "execution_count": 37,
   "id": "314f813b",
   "metadata": {},
   "outputs": [
    {
     "name": "stdout",
     "output_type": "stream",
     "text": [
      "I am a Kangaroo located at coordinates (0,0)\n"
     ]
    }
   ],
   "source": [
    "#creating #Kangaroo\" as a subclass of 'Marsupial' that inherits from all the attributes of 'Mursupial'.\n",
    "class Kangaroo(Marsupial):\n",
    "\n",
    "    def __init__(self,x,y):\n",
    "        self.new_list = []\n",
    "        self.new_list.clear ()\n",
    "        self.x = x\n",
    "        self.y = y\n",
    "        \n",
    "    def  __str__(self):\n",
    "         return (\"I am a Kangaroo located at coordinates (\"+str(self.x)+\",\"+str(self.y)+\")\")\n",
    "\n",
    "    def jump(self,dx,dy):\n",
    "        # change the x and y coordinates by addition of dx and dy units.\n",
    "        self.x = self.x + dx\n",
    "        self.y = self.y + dy\n",
    "    \n",
    "        \n",
    "k = Kangaroo(0,0)\n",
    "print(k)"
   ]
  },
  {
   "cell_type": "code",
   "execution_count": 38,
   "id": "326a4743",
   "metadata": {},
   "outputs": [
    {
     "data": {
      "text/plain": [
       "['doll', 'firetruck', 'kitten']"
      ]
     },
     "execution_count": 38,
     "metadata": {},
     "output_type": "execute_result"
    }
   ],
   "source": [
    "k.put_in_pouch('doll') \n",
    "k.put_in_pouch('firetruck') \n",
    "k.put_in_pouch('kitten') \n",
    "k.pouch_contents()"
   ]
  },
  {
   "cell_type": "code",
   "execution_count": 39,
   "id": "e19082fd",
   "metadata": {},
   "outputs": [
    {
     "name": "stdout",
     "output_type": "stream",
     "text": [
      "I am a Kangaroo located at coordinates (3,0)\n"
     ]
    }
   ],
   "source": [
    "k.jump(1,0) \n",
    "k.jump(1,0) \n",
    "k.jump(1,0) \n",
    "print(k)"
   ]
  },
  {
   "cell_type": "markdown",
   "id": "c1a6acc2",
   "metadata": {},
   "source": [
    "# Question 4 "
   ]
  },
  {
   "cell_type": "markdown",
   "id": "96bd10e4",
   "metadata": {},
   "source": [
    "Write function collatz() that takes a positive integer x as input and prints the \n",
    "Collatz sequence starting at x. A Collatz sequence is obtained by repeatedly applying \n",
    "this rule to the previous number x in the sequence: \n",
    "  \n",
    "x = {  𝑥/2                    𝑖𝑓 𝑥 𝑖𝑠 𝑒𝑣𝑒𝑛\n",
    "\n",
    "3𝑥 + 1 𝑖𝑓 𝑥 𝑖𝑠 𝑜𝑑𝑑 \n",
    "\n",
    "Your function should stop when the sequence gets to number 1. Your \n",
    "implementation must be recursive, without any loops.\n",
    "\n",
    "collatz(1)\n",
    "\n",
    "1 \n",
    "\n",
    "collatz(10) \n",
    "\n",
    "10 \n",
    "\n",
    "5 \n",
    "\n",
    "16 \n",
    "\n",
    "8 \n",
    "\n",
    "4 \n",
    "\n",
    "2 \n",
    "\n",
    "1"
   ]
  },
  {
   "cell_type": "code",
   "execution_count": 49,
   "id": "a69847e1",
   "metadata": {},
   "outputs": [],
   "source": [
    "def collatz(input):\n",
    "    \n",
    "    new_list = [input]\n",
    "    if input < 1:\n",
    "        return (\"Enter a postive integer\")\n",
    "\n",
    "    if input == 1:\n",
    "        return [1]\n",
    "    \n",
    "    elif input % 2 == 0:\n",
    "        new_list.extend(collatz(int(input/2)))\n",
    "    else:\n",
    "        new_list.extend(collatz((input*3)+1))\n",
    "    return new_list"
   ]
  },
  {
   "cell_type": "code",
   "execution_count": 51,
   "id": "a7c7c3e9",
   "metadata": {
    "scrolled": false
   },
   "outputs": [
    {
     "name": "stdout",
     "output_type": "stream",
     "text": [
      "1\n"
     ]
    }
   ],
   "source": [
    "sequence = collatz(1)\n",
    "for i in sequence:\n",
    "    print(i)"
   ]
  },
  {
   "cell_type": "code",
   "execution_count": 52,
   "id": "0a80d635",
   "metadata": {},
   "outputs": [
    {
     "name": "stdout",
     "output_type": "stream",
     "text": [
      "10\n",
      "5\n",
      "16\n",
      "8\n",
      "4\n",
      "2\n",
      "1\n"
     ]
    }
   ],
   "source": [
    "sequence = collatz(10)\n",
    "for i in sequence:\n",
    "    print(i)"
   ]
  },
  {
   "cell_type": "markdown",
   "id": "634ba7bd",
   "metadata": {},
   "source": [
    "# Question 5"
   ]
  },
  {
   "cell_type": "markdown",
   "id": "86bd73f3",
   "metadata": {},
   "source": [
    "Write a recursive method binary() that takes a non-negative \n",
    "integer n and prints the binary representation of integer n. \n",
    "\n",
    "binary(0)\n",
    "\n",
    "0 \n",
    "\n",
    "binary(1) \n",
    "\n",
    "1 \n",
    "\n",
    "binary(3) \n",
    "\n",
    "11 \n",
    "\n",
    "binary(9) \n",
    "\n",
    "1001"
   ]
  },
  {
   "cell_type": "code",
   "execution_count": 57,
   "id": "48317d94",
   "metadata": {},
   "outputs": [],
   "source": [
    "def binary(input):\n",
    "    if input<0:\n",
    "        print('Enter the positive number')\n",
    "    elif input==0:\n",
    "        return 0\n",
    "    else:\n",
    "        return ((10*binary(int(input/2))) + (input%2))        "
   ]
  },
  {
   "cell_type": "code",
   "execution_count": 54,
   "id": "eafde0cb",
   "metadata": {},
   "outputs": [
    {
     "data": {
      "text/plain": [
       "0"
      ]
     },
     "execution_count": 54,
     "metadata": {},
     "output_type": "execute_result"
    }
   ],
   "source": [
    "binary(0)"
   ]
  },
  {
   "cell_type": "code",
   "execution_count": 58,
   "id": "5f161408",
   "metadata": {},
   "outputs": [
    {
     "data": {
      "text/plain": [
       "1"
      ]
     },
     "execution_count": 58,
     "metadata": {},
     "output_type": "execute_result"
    }
   ],
   "source": [
    "binary(1)"
   ]
  },
  {
   "cell_type": "code",
   "execution_count": 59,
   "id": "902b806e",
   "metadata": {},
   "outputs": [
    {
     "data": {
      "text/plain": [
       "11"
      ]
     },
     "execution_count": 59,
     "metadata": {},
     "output_type": "execute_result"
    }
   ],
   "source": [
    "binary()"
   ]
  },
  {
   "cell_type": "code",
   "execution_count": 60,
   "id": "cb4cd666",
   "metadata": {},
   "outputs": [
    {
     "data": {
      "text/plain": [
       "1001"
      ]
     },
     "execution_count": 60,
     "metadata": {},
     "output_type": "execute_result"
    }
   ],
   "source": [
    "binary(9) "
   ]
  },
  {
   "cell_type": "markdown",
   "id": "def8962f",
   "metadata": {},
   "source": [
    "# Question 6"
   ]
  },
  {
   "cell_type": "markdown",
   "id": "87425eb9",
   "metadata": {},
   "source": [
    "Implement a class named HeadingParser that can be used to parse an HTML \n",
    "document, and retrieve and print all the headings in the document. You should \n",
    "implement your class as a subclass of HTMLParser, defined in Standard Library \n",
    "module html.parser. When fed a string containing HTML code, your class should \n",
    "print the headings, one per line and in the order in which they appear in the \n",
    "document. Each heading should be indented as follows: an h1 heading should have\n",
    "indentation 0, and h2 heading should have indentation 1, etc. Test your \n",
    "implementation using w3c.html. \n",
    "\n",
    "infile = open('w3c.html')\n",
    "\n",
    "content = infile.read() \n",
    "\n",
    "infile.close() \n",
    "\n",
    "hp = HeadingParser() \n",
    "\n",
    "hp.feed(content) \n",
    "\n",
    "W3C Mission \n",
    "\n",
    " Principles"
   ]
  },
  {
   "cell_type": "code",
   "execution_count": 68,
   "id": "62ad8a11",
   "metadata": {},
   "outputs": [
    {
     "name": "stdout",
     "output_type": "stream",
     "text": [
      "W3C Mission\n",
      " Principles\n"
     ]
    }
   ],
   "source": [
    "from html.parser import HTMLParser\n",
    "\n",
    "class HeadingParser(HTMLParser):\n",
    "    \n",
    "    def __init__(self):\n",
    "        super().__init__()\n",
    "        self.headings = [] #List to store the headings.\n",
    "        self.current_heading = None\n",
    "        self.indentation = 0 # Variable to store the indentation level.\n",
    "\n",
    "    def handle_starttag(self, tag, attrs):\n",
    "        if tag.startswith('h') and len(tag) == 2:\n",
    "            self.current_heading = int(tag[1])\n",
    "            self.indentation = self.current_heading - 1 #to set the indentation based on heading level,h1->0,h2->1\n",
    "\n",
    "    def handle_endtag(self, tag):\n",
    "        if tag.startswith('h') and len(tag) == 2:\n",
    "            self.current_heading = None\n",
    "\n",
    "    def handle_data(self, data):\n",
    "        if self.current_heading is not None:\n",
    "            heading_text = data.strip() # remove the trailing and leading whitespaces.\n",
    "            if heading_text:\n",
    "                self.headings.append(' ' * self.indentation + heading_text) #To append the heading with given indentation.\n",
    "\n",
    "    def get_headings(self):\n",
    "        return '\\n'.join(self.headings)\n",
    "\n",
    "# Test the implementation using w3c.html\n",
    "infile = open('w3c.html')\n",
    "content = infile.read()\n",
    "infile.close()\n",
    "hp = HeadingParser()\n",
    "hp.feed(content)\n",
    "\n",
    "# Print the headings\n",
    "print(hp.get_headings())"
   ]
  },
  {
   "cell_type": "markdown",
   "id": "ec3600ee",
   "metadata": {},
   "source": [
    "# Question 7"
   ]
  },
  {
   "cell_type": "markdown",
   "id": "70586c5d",
   "metadata": {},
   "source": [
    "Implement recursive function webdir() that takes as input: a URL (as a string) and \n",
    "non-negative integers depth and indent. Your function should visit every web \n",
    "page reachable from the starting URL web page in depth clicks or less, and print \n",
    "each web page's URL. As shown below, indentation, specified by indent,  should \n",
    "be used to indicate the depth of a URL. \n",
    "\n",
    "webdir('http://reed.cs.depaul.edu/lperkovic/csc242/test1.html'\n",
    ", 2, 0) \n",
    "\n",
    "http://reed.cs.depaul.edu/lperkovic/csc242/test1.html \n",
    "    \n",
    "    http://reed.cs.depaul.edu/lperkovic/csc242/test2.html \n",
    "        \n",
    "        http://reed.cs.depaul.edu/lperkovic/csc242/test4.html \n",
    "            \n",
    "    http://reed.cs.depaul.edu/lperkovic/csc242/test3.html \n",
    "        \n",
    "        http://reed.cs.depaul.edu/lperkovic/csc242/test4.html"
   ]
  },
  {
   "cell_type": "code",
   "execution_count": 4,
   "id": "90d62b9c",
   "metadata": {},
   "outputs": [
    {
     "name": "stdout",
     "output_type": "stream",
     "text": [
      " one.html\n",
      "   two.html\n",
      "     four.html\n",
      "   three.html\n",
      "     four.html\n"
     ]
    }
   ],
   "source": [
    "from bs4 import BeautifulSoup\n",
    "import requests\n",
    "\n",
    "site = \"http://reed.cs.depaul.edu/lperkovic/\"\n",
    "\n",
    "def webdir(url, depth, indent=0):\n",
    "    if depth < 0:\n",
    "        return\n",
    "    print(' ' * indent, url)\n",
    "    try:\n",
    "        r = requests.get(site + url)\n",
    "        s = BeautifulSoup(r.text, \"html.parser\")\n",
    "        for i in s.find_all(\"a\"):\n",
    "            new_url = i.attrs['href']\n",
    "            webdir(new_url, depth - 1, indent + 2)\n",
    "    except Exception as e:\n",
    "        print(' ' * indent, 'Error:', e)\n",
    "\n",
    "webdir('one.html',2)"
   ]
  },
  {
   "cell_type": "markdown",
   "id": "88ed79f7",
   "metadata": {},
   "source": [
    "# Question 8"
   ]
  },
  {
   "attachments": {
    "image.png": {
     "image/png": "[encoded data removed]"
    }
   },
   "cell_type": "markdown",
   "id": "a447380e",
   "metadata": {},
   "source": [
    "Write SQL queries on the below database table that return:\n",
    "\n",
    "a) All the temperature data.\n",
    "\n",
    "b) All the cities, but without repetition.\n",
    "\n",
    "c) All the records for India.\n",
    "\n",
    "d) All the Fall records.\n",
    "\n",
    "e) The city, country, and season for which the average rainfall is between 200 and 400 millimeters.\n",
    "\n",
    "f) The city and country for which the average Fall temperature is above 20 degrees, in increasing temperature order.\n",
    "\n",
    "g) The total annual rainfall for Cairo.\n",
    "\n",
    "h) The total rainfall for each season.\n",
    "\n",
    "![image.png](attachment:image.png)\n"
   ]
  },
  {
   "cell_type": "code",
   "execution_count": 135,
   "id": "228816f8",
   "metadata": {},
   "outputs": [],
   "source": [
    "#Creating the given table as database and initializing connection\n",
    "\n",
    "import sqlite3\n",
    "\n",
    "data = [\n",
    "    [\"Mumbai\",\"India\",\"Winter\",24.8,5.9],\n",
    "    [\"Mumbai\",\"India\",\"Spring\",28.4,16.2],\n",
    "    [\"Mumbai\",\"India\",\"Summer\",27.9,1549.4],\n",
    "    [\"Mumbai\",\"India\",\"Fall\",27.6,346.0],\n",
    "    [\"London\",\"United Kingdom\",\"Winter\",4.2,207.7],\n",
    "    [\"London\",\"United Kingdom\",\"Spring\",8.3,169.6],\n",
    "    [\"London\",\"United Kingdom\",\"Summer\",15.7,157.0], \n",
    "    [\"London\",\"United Kingdom\",\"Fall\",10.4,218.5],\n",
    "    [\"Cairo\",\"Egypt\",\"Winter\",13.6,16.5],\n",
    "    [\"Cairo\",\"Egypt\",\"Spring\",20.7,6.5],\n",
    "    [\"Cairo\",\"Egypt\",\"Summer\",27.7,0.1],\n",
    "    [\"Cairo\",\"Egypt\",\"Fall\",22.2,4.5]\n",
    "]\n",
    "\n",
    "con = sqlite3.connect('weather1.db')\n",
    "\n",
    "c = con.cursor()\n",
    "\n",
    "c.execute('''\n",
    "          CREATE TABLE weather\n",
    "          (city TEXT, country TEXT, season TEXT, \n",
    "           temperature REAL, rainfall REAL) \n",
    "          ''')\n",
    "\n",
    "c.executemany('INSERT INTO weather VALUES (?,?,?,?,?)', data)\n",
    "\n",
    "con.commit() \n",
    "con.close()"
   ]
  },
  {
   "cell_type": "code",
   "execution_count": 16,
   "id": "90eb4c84",
   "metadata": {},
   "outputs": [
    {
     "name": "stdout",
     "output_type": "stream",
     "text": [
      "All Temperature Data:\n",
      "4.2\n",
      "8.3\n",
      "10.4\n",
      "13.6\n",
      "15.7\n",
      "20.7\n",
      "22.2\n",
      "24.8\n",
      "27.6\n",
      "27.7\n",
      "27.9\n",
      "28.4\n"
     ]
    }
   ],
   "source": [
    "# a) All the temperature data.\n",
    "\n",
    "c.execute('SELECT temperature FROM weather GROUP BY temperature')\n",
    "temperatures = c.fetchall()\n",
    "print(\"All Temperature Data:\")\n",
    "for temp in temperatures:\n",
    "    print(temp[0])"
   ]
  },
  {
   "cell_type": "code",
   "execution_count": 15,
   "id": "108807d2",
   "metadata": {},
   "outputs": [
    {
     "name": "stdout",
     "output_type": "stream",
     "text": [
      "All the cities, but without repetition\n",
      "Mumbai\n",
      "London\n",
      "Cairo\n"
     ]
    }
   ],
   "source": [
    "# b) All the cities, but without repetition.\n",
    "\n",
    "c.execute('SELECT city FROM weather GROUP BY city ORDER BY city desc')\n",
    "cities = c.fetchall()\n",
    "print(\"All the cities, but without repetition\")\n",
    "for city in cities:\n",
    "    print(city[0])"
   ]
  },
  {
   "cell_type": "code",
   "execution_count": 8,
   "id": "29f1123c",
   "metadata": {},
   "outputs": [
    {
     "name": "stdout",
     "output_type": "stream",
     "text": [
      "All the records for India:\n",
      "('Mumbai', 'India', 'Winter', 24.8, 5.9)\n",
      "('Mumbai', 'India', 'Spring', 28.4, 16.2)\n",
      "('Mumbai', 'India', 'Summer', 27.9, 1549.4)\n",
      "('Mumbai', 'India', 'Fall', 27.6, 346.0)\n"
     ]
    }
   ],
   "source": [
    "# c) All the records for India.\n",
    "\n",
    "con = sqlite3.connect('weather1.db')\n",
    "c = con.cursor()\n",
    "c.execute(\"\"\"SELECT * \n",
    "          FROM weather \n",
    "          WHERE country='India'\"\"\")\n",
    "rows = c.fetchall()\n",
    "print(\"All the records for India:\")\n",
    "for row in rows:\n",
    "    print(row)"
   ]
  },
  {
   "cell_type": "code",
   "execution_count": 14,
   "id": "3db5609d",
   "metadata": {},
   "outputs": [
    {
     "name": "stdout",
     "output_type": "stream",
     "text": [
      "All the Fall records\n",
      "('Mumbai', 'India', 'Fall', 27.6, 346.0)\n",
      "('London', 'United Kingdom', 'Fall', 10.4, 218.5)\n",
      "('Cairo', 'Egypt', 'Fall', 22.2, 4.5)\n"
     ]
    }
   ],
   "source": [
    "# d) All the Fall records.\n",
    "\n",
    "c.execute(\"SELECT * FROM weather WHERE season = 'Fall'\")\n",
    "rows = c.fetchall()\n",
    "print(\"All the Fall records\")\n",
    "for row in rows:\n",
    "    print(row)"
   ]
  },
  {
   "cell_type": "code",
   "execution_count": 13,
   "id": "5c7e6965",
   "metadata": {},
   "outputs": [
    {
     "name": "stdout",
     "output_type": "stream",
     "text": [
      "The city, country, and season for which the average rainfall is between 200 and 400 millimeters\n",
      "('Mumbai', 'India', 'Fall')\n",
      "('London', 'United Kingdom', 'Winter')\n",
      "('London', 'United Kingdom', 'Fall')\n"
     ]
    }
   ],
   "source": [
    "# e) The city, country, and season for which the average rainfall is between 200 and 400 millimeters.\n",
    "\n",
    "c.execute(\"\"\"\n",
    "          SELECT city, country, season FROM weather GROUP BY city, country, season\n",
    "          HAVING AVG(rainfall) BETWEEN 200 AND 400 ORDER BY city desc, season desc\n",
    "          \"\"\")\n",
    "rows=c.fetchall()\n",
    "print(\"The city, country, and season for which the average rainfall is between 200 and 400 millimeters\")\n",
    "for row in rows:\n",
    "    print(row)"
   ]
  },
  {
   "cell_type": "code",
   "execution_count": 11,
   "id": "95643488",
   "metadata": {},
   "outputs": [
    {
     "name": "stdout",
     "output_type": "stream",
     "text": [
      "The city and country for which the average Fall temperature is above 20 degrees, in increasing temperature order\n",
      "('Cairo', 'Egypt')\n",
      "('Mumbai', 'India')\n"
     ]
    }
   ],
   "source": [
    "# f) The city and country for which the average Fall temperature is above 20 degrees, in increasing temperature order.\n",
    "\n",
    "c.execute(\"\"\"\n",
    "          SELECT city, country FROM weather WHERE season = 'Fall' GROUP BY city, country\n",
    "          HAVING AVG(temperature) > 20 ORDER BY AVG(temperature)\n",
    "          \"\"\")\n",
    "rows=c.fetchall()\n",
    "print(\"The city and country for which the average Fall temperature is above 20 degrees, in increasing temperature order\")\n",
    "for row in rows:\n",
    "    print(row)"
   ]
  },
  {
   "cell_type": "code",
   "execution_count": 17,
   "id": "30745fda",
   "metadata": {},
   "outputs": [
    {
     "name": "stdout",
     "output_type": "stream",
     "text": [
      "The total annual rainfall for Cairo.\n",
      "27.6\n"
     ]
    }
   ],
   "source": [
    "# g) The total annual rainfall for Cairo.\n",
    "\n",
    "c.execute(\"SELECT SUM(rainfall) FROM weather WHERE city='Cairo'\")\n",
    "print(\"The total annual rainfall for Cairo.\")\n",
    "result = c.fetchone()\n",
    "print(result[0])"
   ]
  },
  {
   "cell_type": "code",
   "execution_count": 22,
   "id": "7c632b9d",
   "metadata": {},
   "outputs": [
    {
     "name": "stdout",
     "output_type": "stream",
     "text": [
      "The total rainfall for each season:\n",
      "The total rainfall in Fall is 569.0 mm.\n",
      "The total rainfall in Spring is 192.29999999999998 mm.\n",
      "The total rainfall in Summer is 1706.5 mm.\n",
      "The total rainfall in Winter is 230.1 mm.\n"
     ]
    }
   ],
   "source": [
    "# h) The total rainfall for each season.\n",
    "\n",
    "c.execute(\"\"\"\n",
    "         SELECT season, SUM(rainfall) \n",
    "         FROM weather  \n",
    "         GROUP BY season\n",
    "         \"\"\")\n",
    "rows = c.fetchall()\n",
    "print(\"The total rainfall for each season:\")\n",
    "for row in rows:\n",
    "    print(\"The total rainfall in \"+ row[0] + \" is \" + str(row[1]) + \" mm.\")"
   ]
  },
  {
   "cell_type": "markdown",
   "id": "5c1ab0f1",
   "metadata": {},
   "source": [
    "# Question 9 "
   ]
  },
  {
   "cell_type": "markdown",
   "id": "0a681bd6",
   "metadata": {},
   "source": [
    ". Suppose list words is defined as follows: \n",
    "words = ['The', 'quick', 'brown', 'fox', 'jumps', 'over', \n",
    "'the', 'lazy', 'dog']\n",
    "\n",
    "Write list comprehension expressions that use list words and generate the following \n",
    "lists: \n",
    "\n",
    "a) ['THE', 'QUICK', 'BROWN', 'FOX', 'JUMPS', 'OVER', 'THE', \n",
    "'LAZY', 'DOG'] \n",
    "\n",
    "b) ['the', 'quick', 'brown', 'fox', 'jumps', 'over', 'the', \n",
    "'lazy', 'dog'] \n",
    "\n",
    "c) [3, 5, 5, 3, 5, 4, 3, 4, 3] (the list of lengths of words in list \n",
    "words). \n",
    "\n",
    "d) [['THE', 'the', 3], ['QUICK', 'quick', 5], ['BROWN', \n",
    "'brown', 5], ['FOX', 'fox', 3], ['JUMPS', 'jumps', 5], \n",
    "['OVER', 'over', 4], ['THE', 'the', 3], ['LAZY', 'lazy', \n",
    "4], ['DOG', 'dog', 3]] (the list containing a list for every word of list \n",
    "words, where each list contains the word in uppercase and lowercase and the \n",
    "length of the word.)\n",
    "\n",
    "e) ['The', 'quick', 'brown', 'fox', 'jumps', 'over', 'the', \n",
    "'lazy', 'dog'] (the list of words in list words containing 4 or more \n",
    "characters.) "
   ]
  },
  {
   "cell_type": "code",
   "execution_count": 27,
   "id": "8f4d53a1",
   "metadata": {},
   "outputs": [
    {
     "name": "stdout",
     "output_type": "stream",
     "text": [
      "a) ['THE', 'QUICK', 'BROWN', 'FOX', 'JUMPS', 'OVER', 'THE', 'LAZY', 'DOG']\n",
      "b) ['the', 'quick', 'brown', 'fox', 'jumps', 'over', 'the', 'lazy', 'dog']\n",
      "c) [3, 5, 5, 3, 5, 4, 3, 4, 3]\n",
      "d) [['THE', 'the', 3], ['QUICK', 'quick', 5], ['BROWN', 'brown', 5], ['FOX', 'fox', 3], ['JUMPS', 'jumps', 5], ['OVER', 'over', 4], ['THE', 'the', 3], ['LAZY', 'lazy', 4], ['DOG', 'dog', 3]]\n",
      "e) ['quick', 'brown', 'jumps', 'over', 'lazy']\n"
     ]
    }
   ],
   "source": [
    "words = ['The', 'quick', 'brown', 'fox', 'jumps', 'over', 'the', 'lazy', 'dog']\n",
    "\n",
    "def uppercase_words(words):\n",
    "    #Returns a new list with all words in uppercase.\n",
    "    uppercase_words = []\n",
    "    \n",
    "    for word in words:\n",
    "        uppercase_words.append(word.upper())\n",
    "    return uppercase_words \n",
    "\n",
    "def lowercase_words(words):\n",
    "    #Returns a new list with all words in lowercase.\n",
    "    lowercase_words = []\n",
    "    for word in words:\n",
    "        lowercase_words.append(word.lower())\n",
    "    return lowercase_words\n",
    "\n",
    "def lengths_of_words(words):\n",
    "    #Returns a new list with length of each word.\n",
    "    lengths_of_words = []\n",
    "    \n",
    "    for word in words:\n",
    "        lengths_of_words.append(len(word))\n",
    "    return lengths_of_words\n",
    "\n",
    "def uppercase_lowercase_wordlength_list(words):\n",
    "    #Returns a new nested list containing [uppercase, lowercase, length] for each word.\n",
    "    uppercase_lowercase_wordlength_list = []\n",
    "    \n",
    "    for word in words:\n",
    "        list_for_words = []\n",
    "        list_for_words.append(word.upper())\n",
    "        list_for_words.append(word.lower()) \n",
    "        list_for_words.append(len(word))\n",
    "        uppercase_lowercase_wordlength_list.append(list_for_words)\n",
    "    return uppercase_lowercase_wordlength_list\n",
    "\n",
    "def long_words(words):\n",
    "    #Returns words from list containing 4 or more characters.\n",
    "    long_words = []\n",
    "    \n",
    "    for word in words:\n",
    "        if len(word) >= 4:\n",
    "            long_words.append(word)\n",
    "    return long_words\n",
    "\n",
    "print(\"a)\", uppercase_words(words))\n",
    "print(\"b)\", lowercase_words(words))  \n",
    "print(\"c)\", lengths_of_words(words))\n",
    "print(\"d)\", uppercase_lowercase_wordlength_list(words)) \n",
    "print(\"e)\", long_words(words))"
   ]
  },
  {
   "cell_type": "code",
   "execution_count": null,
   "id": "bd53194f",
   "metadata": {},
   "outputs": [],
   "source": []
  }
 ],
 "metadata": {
  "kernelspec": {
   "display_name": "Python 3 (ipykernel)",
   "language": "python",
   "name": "python3"
  },
  "language_info": {
   "codemirror_mode": {
    "name": "ipython",
    "version": 3
   },
   "file_extension": ".py",
   "mimetype": "text/x-python",
   "name": "python",
   "nbconvert_exporter": "python",
   "pygments_lexer": "ipython3",
   "version": "3.11.5"
  }
 },
 "nbformat": 4,
 "nbformat_minor": 5
}
