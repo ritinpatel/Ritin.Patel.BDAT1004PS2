{
 "cells": [
  {
   "cell_type": "markdown",
   "id": "9fab83de",
   "metadata": {},
   "source": [
    "Question 1\n",
    "\n",
    "Consider the following Python module: \n",
    "\n",
    "a = 0 \n",
    " \n",
    "def b(): \n",
    "    global a \n",
    "    a = c(a) \n",
    " \n",
    "def c(a): \n",
    "    return a + 2 \n",
    "\n",
    "After importing the module into the interpreter, you execute: \n",
    "\n",
    "b() \n",
    "b() \n",
    "b() \n",
    "a\n",
    "?"
   ]
  },
  {
   "cell_type": "code",
   "execution_count": 6,
   "id": "0bc0fe7b",
   "metadata": {},
   "outputs": [
    {
     "name": "stdout",
     "output_type": "stream",
     "text": [
      "2\n",
      "4\n",
      "6\n",
      "6\n"
     ]
    }
   ],
   "source": [
    "a = 0 \n",
    " \n",
    "def b(): \n",
    "    global a \n",
    "    a = c(a)\n",
    "    return a\n",
    "\n",
    "def c(a):\n",
    "    return a + 2\n",
    "\n",
    "print(b())\n",
    "print(b())\n",
    "print(b())\n",
    "print(a)"
   ]
  },
  {
   "cell_type": "markdown",
   "id": "ce48a650",
   "metadata": {},
   "source": [
    "# Explaination for Que 1"
   ]
  },
  {
   "cell_type": "markdown",
   "id": "4d51fb8a",
   "metadata": {},
   "source": [
    "In the first call to b(), the global a is used i.e. 0. which is passed to function c() and a value becomes c(0) which is 2. Hence, b() returns 2.\n",
    "In the second call to b() updates the variable a to c(2) in similar way. a value becomes 4 Hence, b() returns 4.\n",
    "In the third call to b() updates the variable a to c(4) in similar way. a value becomes 6 Hence, b() returns 6.\n",
    "As the a was declared global in the fucntion b(). so the value change of a is made to the global a. Hence, the final value of a becomes 6."
   ]
  },
  {
   "cell_type": "markdown",
   "id": "25dcb179",
   "metadata": {},
   "source": [
    "Question 2\n",
    "\n",
    "Function fileLength(), given to you, takes the name of a file as input and returns \n",
    "the length of the file: \n",
    "\n",
    ">>> fileLength('midterm.py') \n",
    "284 \n",
    ">>> fileLength('idterm.py') \n",
    "Traceback (most recent call last): \n",
    "  File \"<pyshell#34>\", line 1, in <module> \n",
    "    fileLength('idterm.py') \n",
    "  File \"/Users/me/midterm.py\", line 3, in fileLength \n",
    "    infile = open(filename) \n",
    "FileNotFoundError: [Errno 2] No such file or directory: \n",
    "'idterm.py' \n",
    "\n",
    "As shown above, if the file cannot be found by the interpreter or if it cannot be read \n",
    "as a text file, an exception will be raised. Modify function fileLength() so that a \n",
    "friendly message is printed instead: \n",
    "\n",
    ">>> fileLength('midterm.py') \n",
    "358 \n",
    ">>> fileLength('idterm.py') \n",
    "File idterm.py not found. "
   ]
  },
  {
   "cell_type": "code",
   "execution_count": null,
   "id": "2bbb23a5",
   "metadata": {},
   "outputs": [],
   "source": []
  }
 ],
 "metadata": {
  "kernelspec": {
   "display_name": "Python 3 (ipykernel)",
   "language": "python",
   "name": "python3"
  },
  "language_info": {
   "codemirror_mode": {
    "name": "ipython",
    "version": 3
   },
   "file_extension": ".py",
   "mimetype": "text/x-python",
   "name": "python",
   "nbconvert_exporter": "python",
   "pygments_lexer": "ipython3",
   "version": "3.11.5"
  }
 },
 "nbformat": 4,
 "nbformat_minor": 5
}
